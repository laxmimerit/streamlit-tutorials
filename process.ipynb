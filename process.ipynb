{
 "cells": [
  {
   "cell_type": "code",
   "execution_count": 14,
   "metadata": {},
   "outputs": [],
   "source": [
    "import pandas as pd\n",
    "\n",
    "\n",
    "temp = pd.read_csv('https://github.com/speegled/weather_forecasts/raw/main/data/weather_data.csv', usecols=['City', 'D0_Hi'])\n",
    "city = pd.read_csv('https://github.com/speegled/weather_forecasts/raw/main/data/cities.csv', usecols=['city', 'lon', 'lat'])"
   ]
  },
  {
   "cell_type": "code",
   "execution_count": 15,
   "metadata": {},
   "outputs": [
    {
     "data": {
      "text/html": [
       "<div>\n",
       "<style scoped>\n",
       "    .dataframe tbody tr th:only-of-type {\n",
       "        vertical-align: middle;\n",
       "    }\n",
       "\n",
       "    .dataframe tbody tr th {\n",
       "        vertical-align: top;\n",
       "    }\n",
       "\n",
       "    .dataframe thead th {\n",
       "        text-align: right;\n",
       "    }\n",
       "</style>\n",
       "<table border=\"1\" class=\"dataframe\">\n",
       "  <thead>\n",
       "    <tr style=\"text-align: right;\">\n",
       "      <th></th>\n",
       "      <th>city</th>\n",
       "      <th>lon</th>\n",
       "      <th>lat</th>\n",
       "      <th>temp</th>\n",
       "    </tr>\n",
       "  </thead>\n",
       "  <tbody>\n",
       "    <tr>\n",
       "      <th>2</th>\n",
       "      <td>CONCORD</td>\n",
       "      <td>-71.500</td>\n",
       "      <td>43.20000</td>\n",
       "      <td>72.0</td>\n",
       "    </tr>\n",
       "    <tr>\n",
       "      <th>4</th>\n",
       "      <td>CONCORD</td>\n",
       "      <td>-71.500</td>\n",
       "      <td>43.20000</td>\n",
       "      <td>75.0</td>\n",
       "    </tr>\n",
       "    <tr>\n",
       "      <th>7</th>\n",
       "      <td>CONCORD</td>\n",
       "      <td>-71.500</td>\n",
       "      <td>43.20000</td>\n",
       "      <td>62.0</td>\n",
       "    </tr>\n",
       "    <tr>\n",
       "      <th>9</th>\n",
       "      <td>CONCORD</td>\n",
       "      <td>-71.500</td>\n",
       "      <td>43.20000</td>\n",
       "      <td>63.0</td>\n",
       "    </tr>\n",
       "    <tr>\n",
       "      <th>14</th>\n",
       "      <td>CONCORD</td>\n",
       "      <td>-71.500</td>\n",
       "      <td>43.20000</td>\n",
       "      <td>77.0</td>\n",
       "    </tr>\n",
       "    <tr>\n",
       "      <th>...</th>\n",
       "      <td>...</td>\n",
       "      <td>...</td>\n",
       "      <td>...</td>\n",
       "      <td>...</td>\n",
       "    </tr>\n",
       "    <tr>\n",
       "      <th>19700</th>\n",
       "      <td>YUMA</td>\n",
       "      <td>-114.593</td>\n",
       "      <td>32.65944</td>\n",
       "      <td>70.0</td>\n",
       "    </tr>\n",
       "    <tr>\n",
       "      <th>19708</th>\n",
       "      <td>YUMA</td>\n",
       "      <td>-114.593</td>\n",
       "      <td>32.65944</td>\n",
       "      <td>76.0</td>\n",
       "    </tr>\n",
       "    <tr>\n",
       "      <th>19722</th>\n",
       "      <td>YUMA</td>\n",
       "      <td>-114.593</td>\n",
       "      <td>32.65944</td>\n",
       "      <td>68.0</td>\n",
       "    </tr>\n",
       "    <tr>\n",
       "      <th>19725</th>\n",
       "      <td>YUMA</td>\n",
       "      <td>-114.593</td>\n",
       "      <td>32.65944</td>\n",
       "      <td>74.0</td>\n",
       "    </tr>\n",
       "    <tr>\n",
       "      <th>19742</th>\n",
       "      <td>YUMA</td>\n",
       "      <td>-114.593</td>\n",
       "      <td>32.65944</td>\n",
       "      <td>60.0</td>\n",
       "    </tr>\n",
       "  </tbody>\n",
       "</table>\n",
       "<p>3709 rows × 4 columns</p>\n",
       "</div>"
      ],
      "text/plain": [
       "          city      lon       lat  temp\n",
       "2      CONCORD  -71.500  43.20000  72.0\n",
       "4      CONCORD  -71.500  43.20000  75.0\n",
       "7      CONCORD  -71.500  43.20000  62.0\n",
       "9      CONCORD  -71.500  43.20000  63.0\n",
       "14     CONCORD  -71.500  43.20000  77.0\n",
       "...        ...      ...       ...   ...\n",
       "19700     YUMA -114.593  32.65944  70.0\n",
       "19708     YUMA -114.593  32.65944  76.0\n",
       "19722     YUMA -114.593  32.65944  68.0\n",
       "19725     YUMA -114.593  32.65944  74.0\n",
       "19742     YUMA -114.593  32.65944  60.0\n",
       "\n",
       "[3709 rows x 4 columns]"
      ]
     },
     "execution_count": 15,
     "metadata": {},
     "output_type": "execute_result"
    }
   ],
   "source": [
    "temp = city.merge(temp, left_on='city', right_on='City', how='inner').drop(columns='City')\n",
    "temp = temp.rename(columns={'D0_Hi': 'temp'})\n",
    "temp = temp.dropna()\n",
    "temp = temp.drop_duplicates()\n",
    "temp"
   ]
  },
  {
   "cell_type": "code",
   "execution_count": 17,
   "metadata": {},
   "outputs": [],
   "source": [
    "# group by city and get the average temperature for each city and keep lon and lat\n",
    "temp = temp.groupby(['city', 'lon', 'lat']).mean().reset_index()"
   ]
  },
  {
   "cell_type": "code",
   "execution_count": 19,
   "metadata": {},
   "outputs": [],
   "source": [
    "temp['temp'] = temp['temp'].astype(int)"
   ]
  },
  {
   "cell_type": "code",
   "execution_count": 20,
   "metadata": {},
   "outputs": [],
   "source": [
    "temp.to_csv('weather_data.csv', index=False)"
   ]
  },
  {
   "cell_type": "code",
   "execution_count": null,
   "metadata": {},
   "outputs": [],
   "source": []
  },
  {
   "cell_type": "code",
   "execution_count": null,
   "metadata": {},
   "outputs": [],
   "source": []
  },
  {
   "cell_type": "code",
   "execution_count": null,
   "metadata": {},
   "outputs": [],
   "source": []
  },
  {
   "cell_type": "code",
   "execution_count": null,
   "metadata": {},
   "outputs": [],
   "source": []
  }
 ],
 "metadata": {
  "kernelspec": {
   "display_name": "base",
   "language": "python",
   "name": "python3"
  },
  "language_info": {
   "codemirror_mode": {
    "name": "ipython",
    "version": 3
   },
   "file_extension": ".py",
   "mimetype": "text/x-python",
   "name": "python",
   "nbconvert_exporter": "python",
   "pygments_lexer": "ipython3",
   "version": "3.9.13"
  }
 },
 "nbformat": 4,
 "nbformat_minor": 2
}
